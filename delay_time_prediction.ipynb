{
 "cells": [
  {
   "cell_type": "code",
   "execution_count": null,
   "id": "8d759665",
   "metadata": {},
   "outputs": [],
   "source": [
    "import pandas as pd\n",
    "import autosklearn.regression\n",
    "\n",
    "from sklearn.tree import DecisionTreeRegressor\n",
    "from sklearn.neighbors import KNeighborsRegressor\n",
    "from sklearn.gaussian_process import GaussianProcessRegressor\n",
    "from sklearn.neural_network import MLPRegressor\n",
    "from sklearn.preprocessing import StandardScaler\n",
    "from sklearn.linear_model import LinearRegression, Ridge, Lasso, ElasticNet, BayesianRidge, HuberRegressor\n",
    "from sklearn.ensemble import RandomForestRegressor, GradientBoostingRegressor, BaggingRegressor, ExtraTreesRegressor, AdaBoostRegressor, VotingRegressor\n",
    "from sklearn.svm import SVR\n",
    "\n",
    "from sklearn.model_selection import GridSearchCV\n",
    "from sklearn.model_selection import RandomizedSearchCV\n",
    "\n",
    "from sklearn.pipeline import make_pipeline\n",
    "from sklearn.model_selection import train_test_split\n",
    "from sklearn.metrics import mean_squared_error, mean_absolute_error, r2_score\n",
    "\n",
    "from scipy.stats import randint, uniform"
   ]
  },
  {
   "cell_type": "markdown",
   "id": "44b21ba0",
   "metadata": {},
   "source": [
    "# Data preparation"
   ]
  },
  {
   "cell_type": "markdown",
   "id": "ccceb904",
   "metadata": {},
   "source": [
    "## Import"
   ]
  },
  {
   "cell_type": "code",
   "execution_count": null,
   "id": "aa744123",
   "metadata": {},
   "outputs": [
    {
     "name": "stdout",
     "output_type": "stream",
     "text": [
      "<class 'pandas.core.frame.DataFrame'>\n",
      "RangeIndex: 322 entries, 0 to 321\n",
      "Data columns (total 7 columns):\n",
      " #   Column     Non-Null Count  Dtype  \n",
      "---  ------     --------------  -----  \n",
      " 0   IATA_CODE  322 non-null    object \n",
      " 1   AIRPORT    322 non-null    object \n",
      " 2   CITY       322 non-null    object \n",
      " 3   STATE      322 non-null    object \n",
      " 4   COUNTRY    322 non-null    object \n",
      " 5   LATITUDE   319 non-null    float64\n",
      " 6   LONGITUDE  319 non-null    float64\n",
      "dtypes: float64(2), object(5)\n",
      "memory usage: 17.7+ KB\n",
      "<class 'pandas.core.frame.DataFrame'>\n",
      "RangeIndex: 5819079 entries, 0 to 5819078\n",
      "Data columns (total 31 columns):\n",
      " #   Column               Dtype  \n",
      "---  ------               -----  \n",
      " 0   YEAR                 int64  \n",
      " 1   MONTH                int64  \n",
      " 2   DAY                  int64  \n",
      " 3   DAY_OF_WEEK          int64  \n",
      " 4   AIRLINE              object \n",
      " 5   FLIGHT_NUMBER        int64  \n",
      " 6   TAIL_NUMBER          object \n",
      " 7   ORIGIN_AIRPORT       object \n",
      " 8   DESTINATION_AIRPORT  object \n",
      " 9   SCHEDULED_DEPARTURE  int64  \n",
      " 10  DEPARTURE_TIME       float64\n",
      " 11  DEPARTURE_DELAY      float64\n",
      " 12  TAXI_OUT             float64\n",
      " 13  WHEELS_OFF           float64\n",
      " 14  SCHEDULED_TIME       float64\n",
      " 15  ELAPSED_TIME         float64\n",
      " 16  AIR_TIME             float64\n",
      " 17  DISTANCE             int64  \n",
      " 18  WHEELS_ON            float64\n",
      " 19  TAXI_IN              float64\n",
      " 20  SCHEDULED_ARRIVAL    int64  \n",
      " 21  ARRIVAL_TIME         float64\n",
      " 22  ARRIVAL_DELAY        float64\n",
      " 23  DIVERTED             int64  \n",
      " 24  CANCELLED            int64  \n",
      " 25  CANCELLATION_REASON  object \n",
      " 26  AIR_SYSTEM_DELAY     float64\n",
      " 27  SECURITY_DELAY       float64\n",
      " 28  AIRLINE_DELAY        float64\n",
      " 29  LATE_AIRCRAFT_DELAY  float64\n",
      " 30  WEATHER_DELAY        float64\n",
      "dtypes: float64(16), int64(10), object(5)\n",
      "memory usage: 1.3+ GB\n"
     ]
    }
   ],
   "source": [
    "flights = pd.read_csv(\"data/flights.csv\", low_memory=False)\n",
    "airports = pd.read_csv(\"data/airports.csv\", low_memory=False)\n",
    "\n",
    "airports.info()\n",
    "flights.info()"
   ]
  },
  {
   "cell_type": "markdown",
   "id": "e165c81b",
   "metadata": {},
   "source": [
    "## Cleanup"
   ]
  },
  {
   "cell_type": "code",
   "execution_count": 4,
   "id": "c3dfde1b",
   "metadata": {},
   "outputs": [
    {
     "name": "stdout",
     "output_type": "stream",
     "text": [
      "<class 'pandas.core.frame.DataFrame'>\n",
      "Index: 5729195 entries, 0 to 5819078\n",
      "Data columns (total 28 columns):\n",
      " #   Column               Dtype  \n",
      "---  ------               -----  \n",
      " 0   MONTH                int64  \n",
      " 1   DAY                  int64  \n",
      " 2   DAY_OF_WEEK          int64  \n",
      " 3   AIRLINE              object \n",
      " 4   FLIGHT_NUMBER        int64  \n",
      " 5   TAIL_NUMBER          object \n",
      " 6   ORIGIN_AIRPORT       object \n",
      " 7   DESTINATION_AIRPORT  object \n",
      " 8   SCHEDULED_DEPARTURE  int64  \n",
      " 9   DEPARTURE_TIME       float64\n",
      " 10  DEPARTURE_DELAY      float64\n",
      " 11  TAXI_OUT             float64\n",
      " 12  WHEELS_OFF           float64\n",
      " 13  SCHEDULED_TIME       float64\n",
      " 14  ELAPSED_TIME         float64\n",
      " 15  AIR_TIME             float64\n",
      " 16  DISTANCE             int64  \n",
      " 17  WHEELS_ON            float64\n",
      " 18  TAXI_IN              float64\n",
      " 19  SCHEDULED_ARRIVAL    int64  \n",
      " 20  ARRIVAL_TIME         float64\n",
      " 21  ARRIVAL_DELAY        float64\n",
      " 22  DIVERTED             int64  \n",
      " 23  AIR_SYSTEM_DELAY     float64\n",
      " 24  SECURITY_DELAY       float64\n",
      " 25  AIRLINE_DELAY        float64\n",
      " 26  LATE_AIRCRAFT_DELAY  float64\n",
      " 27  WEATHER_DELAY        float64\n",
      "dtypes: float64(16), int64(8), object(4)\n",
      "memory usage: 1.2+ GB\n"
     ]
    }
   ],
   "source": [
    "flights_cleaned = flights[flights[\"CANCELLED\"] == 0]\n",
    "\n",
    "features = [ \n",
    "    \"MONTH\",\"DAY\",\"DAY_OF_WEEK\",\"AIRLINE\",\"FLIGHT_NUMBER\",\"TAIL_NUMBER\",\n",
    "    \"ORIGIN_AIRPORT\",\"DESTINATION_AIRPORT\",\"SCHEDULED_DEPARTURE\",\"DEPARTURE_TIME\",\"DEPARTURE_DELAY\",\n",
    "    \"TAXI_OUT\",\"WHEELS_OFF\",\"SCHEDULED_TIME\",\"ELAPSED_TIME\",\"AIR_TIME\",\"DISTANCE\",\"WHEELS_ON\",\"TAXI_IN\",\n",
    "    \"SCHEDULED_ARRIVAL\",\"ARRIVAL_TIME\",\"ARRIVAL_DELAY\",\"DIVERTED\",\n",
    "    \"AIR_SYSTEM_DELAY\",\"SECURITY_DELAY\",\"AIRLINE_DELAY\",\"LATE_AIRCRAFT_DELAY\",\"WEATHER_DELAY\"\n",
    "]\n",
    "flights_cleaned = flights_cleaned[features]\n",
    "missing_data = [\n",
    "    \"AIR_SYSTEM_DELAY\", \"SECURITY_DELAY\", \"AIRLINE_DELAY\",\n",
    "    \"LATE_AIRCRAFT_DELAY\", \"WEATHER_DELAY\"\n",
    "]\n",
    "flights_cleaned[missing_data] = flights_cleaned[missing_data].fillna(0)\n",
    "flights_cleaned.info()\n"
   ]
  },
  {
   "cell_type": "markdown",
   "id": "eb72bef3",
   "metadata": {},
   "source": [
    "## Enhance data"
   ]
  },
  {
   "cell_type": "code",
   "execution_count": 5,
   "id": "dde1421e",
   "metadata": {},
   "outputs": [
    {
     "name": "stdout",
     "output_type": "stream",
     "text": [
      "<class 'pandas.core.frame.DataFrame'>\n",
      "Index: 5222000 entries, 0 to 5729194\n",
      "Data columns (total 36 columns):\n",
      " #   Column               Dtype  \n",
      "---  ------               -----  \n",
      " 0   MONTH                int64  \n",
      " 1   DAY                  int64  \n",
      " 2   DAY_OF_WEEK          int64  \n",
      " 3   AIRLINE              object \n",
      " 4   FLIGHT_NUMBER        int64  \n",
      " 5   TAIL_NUMBER          object \n",
      " 6   ORIGIN_AIRPORT       object \n",
      " 7   DESTINATION_AIRPORT  object \n",
      " 8   SCHEDULED_DEPARTURE  int64  \n",
      " 9   DEPARTURE_TIME       float64\n",
      " 10  DEPARTURE_DELAY      float64\n",
      " 11  TAXI_OUT             float64\n",
      " 12  WHEELS_OFF           float64\n",
      " 13  SCHEDULED_TIME       float64\n",
      " 14  ELAPSED_TIME         float64\n",
      " 15  AIR_TIME             float64\n",
      " 16  DISTANCE             int64  \n",
      " 17  WHEELS_ON            float64\n",
      " 18  TAXI_IN              float64\n",
      " 19  SCHEDULED_ARRIVAL    int64  \n",
      " 20  ARRIVAL_TIME         float64\n",
      " 21  ARRIVAL_DELAY        float64\n",
      " 22  DIVERTED             int64  \n",
      " 23  AIR_SYSTEM_DELAY     float64\n",
      " 24  SECURITY_DELAY       float64\n",
      " 25  AIRLINE_DELAY        float64\n",
      " 26  LATE_AIRCRAFT_DELAY  float64\n",
      " 27  WEATHER_DELAY        float64\n",
      " 28  ORIGIN_LAT           float64\n",
      " 29  ORIGIN_LON           float64\n",
      " 30  ORIGIN_STATE         object \n",
      " 31  ORIGIN_CITY          object \n",
      " 32  DEST_LAT             float64\n",
      " 33  DEST_LON             float64\n",
      " 34  DEST_STATE           object \n",
      " 35  DEST_CITY            object \n",
      "dtypes: float64(20), int64(8), object(8)\n",
      "memory usage: 1.4+ GB\n"
     ]
    }
   ],
   "source": [
    "airports.rename(columns={\"IATA_CODE\": \"ORIGIN_AIRPORT\"}, inplace=True)\n",
    "flights_enhanced = flights_cleaned.merge(airports[[\"ORIGIN_AIRPORT\", \"LATITUDE\", \"LONGITUDE\", \"STATE\", \"CITY\"]],\n",
    "                        on=\"ORIGIN_AIRPORT\", how=\"left\")\n",
    "flights_enhanced.rename(columns={\"LATITUDE\": \"ORIGIN_LAT\", \"LONGITUDE\": \"ORIGIN_LON\", \"STATE\": \"ORIGIN_STATE\", \"CITY\": \"ORIGIN_CITY\"}, inplace=True)\n",
    "\n",
    "airports.rename(columns={\"ORIGIN_AIRPORT\": \"DESTINATION_AIRPORT\"}, inplace=True)\n",
    "flights_enhanced = flights_enhanced.merge(airports[[\"DESTINATION_AIRPORT\", \"LATITUDE\", \"LONGITUDE\", \"STATE\", \"CITY\"]],\n",
    "                        on=\"DESTINATION_AIRPORT\", how=\"left\")\n",
    "flights_enhanced.rename(columns={\"LATITUDE\": \"DEST_LAT\", \"LONGITUDE\": \"DEST_LON\", \"STATE\": \"DEST_STATE\", \"CITY\": \"DEST_CITY\"}, inplace=True)\n",
    "\n",
    "flights_enhanced.dropna(inplace=True)\n",
    "flights_enhanced.info()"
   ]
  },
  {
   "cell_type": "markdown",
   "id": "2e5aa90c",
   "metadata": {},
   "source": [
    "## Drop non numeric"
   ]
  },
  {
   "cell_type": "code",
   "execution_count": 6,
   "id": "e09ea3db",
   "metadata": {},
   "outputs": [],
   "source": [
    "categorical = flights_enhanced.select_dtypes(include=[\"object\", \"category\"]).columns.tolist()\n",
    "\n",
    "flights_final = flights_enhanced.drop(columns=categorical)"
   ]
  },
  {
   "cell_type": "markdown",
   "id": "e0c4d1f0",
   "metadata": {},
   "source": [
    "# Model"
   ]
  },
  {
   "cell_type": "markdown",
   "id": "b4b43f9f",
   "metadata": {},
   "source": [
    "## Linear Regression"
   ]
  },
  {
   "cell_type": "code",
   "execution_count": null,
   "id": "260b4ff2",
   "metadata": {},
   "outputs": [
    {
     "name": "stdout",
     "output_type": "stream",
     "text": [
      "0.9999999999999839\n",
      "0.9999999999999839\n"
     ]
    }
   ],
   "source": [
    "flights_all = flights_final.copy()\n",
    "target = \"ARRIVAL_DELAY\"\n",
    "\n",
    "y = flights_all[target]\n",
    "X = flights_all.drop(columns=[target])\n",
    "X_train, X_test, y_train, y_test = train_test_split(X, y, test_size=0.2)\n",
    "\n",
    "lr_model = LinearRegression()\n",
    "lr_model.fit(X_train, y_train)\n",
    "y_pred = lr_model.predict(X_test)\n",
    "r2 = r2_score(y_test, y_pred)\n",
    "print(f\"R^2 score = {r2:.4f}\")\n",
    "mae = mean_absolute_error(y_test, y_pred)\n",
    "print(f\"MAE score = {mae:.4f}\")\n",
    "rmse = mean_squared_error(y_test, y_pred)\n",
    "print(f\"RMSE score = {rmse:.4f}\")"
   ]
  },
  {
   "cell_type": "markdown",
   "id": "1254746a",
   "metadata": {},
   "source": [
    "## Filter out trivial data"
   ]
  },
  {
   "cell_type": "code",
   "execution_count": null,
   "id": "45fec784",
   "metadata": {},
   "outputs": [],
   "source": [
    "flights_sample = flights_final.sample(n=10000, random_state=42)\n",
    "easy_features = [ \n",
    "    \"DEPARTURE_DELAY\",\n",
    "    \"ELAPSED_TIME\",\"AIR_TIME\",\"WHEELS_ON\",\"TAXI_IN\",\n",
    "    \"ARRIVAL_TIME\",\n",
    "    \"AIR_SYSTEM_DELAY\",\"SECURITY_DELAY\",\"AIRLINE_DELAY\",\"LATE_AIRCRAFT_DELAY\",\"WEATHER_DELAY\"\n",
    "]\n",
    "\n",
    "target = \"ARRIVAL_DELAY\"\n",
    "\n",
    "y = flights_sample[target]\n",
    "X = flights_sample.drop(columns=[target])\n",
    "X = X.drop(columns=easy_features)\n",
    "X_train, X_test, y_train, y_test = train_test_split(X, y, test_size=0.2)"
   ]
  },
  {
   "cell_type": "markdown",
   "id": "f05c82df",
   "metadata": {},
   "source": [
    "## Algorithm ranking "
   ]
  },
  {
   "cell_type": "code",
   "execution_count": null,
   "id": "bc527312",
   "metadata": {},
   "outputs": [
    {
     "name": "stdout",
     "output_type": "stream",
     "text": [
      "LinearRegression: R^2 score = 0.1149\n",
      "Ridge: R^2 score = 0.1149\n",
      "Lasso: R^2 score = 0.0865\n",
      "ElasticNet: R^2 score = 0.0753\n",
      "BayesianRidge: R^2 score = 0.1148\n",
      "HuberRegressor: R^2 score = -1.9567\n",
      "DecisionTreeRegressor: R^2 score = 0.2797\n",
      "RandomForestRegressor: R^2 score = 0.7384\n",
      "GradientBoostingRegressor: R^2 score = 0.7135\n",
      "BaggingRegressor: R^2 score = 0.6306\n",
      "ExtraTreesRegressor: R^2 score = 0.8185\n",
      "AdaBoostRegressor: R^2 score = -1.6063\n",
      "SVR: R^2 score = 0.0445\n",
      "KNeighborsRegressor: R^2 score = 0.0856\n",
      "GaussianProcessRegressor: R^2 score = 0.2401\n",
      "MLPRegressor: R^2 score = 0.7011\n",
      "\n",
      "Sorted Results:\n",
      "ExtraTreesRegressor: R^2 score = 0.8185\n",
      "RandomForestRegressor: R^2 score = 0.7384\n",
      "GradientBoostingRegressor: R^2 score = 0.7135\n",
      "MLPRegressor: R^2 score = 0.7011\n",
      "BaggingRegressor: R^2 score = 0.6306\n",
      "DecisionTreeRegressor: R^2 score = 0.2797\n",
      "GaussianProcessRegressor: R^2 score = 0.2401\n",
      "Ridge: R^2 score = 0.1149\n",
      "LinearRegression: R^2 score = 0.1149\n",
      "BayesianRidge: R^2 score = 0.1148\n",
      "Lasso: R^2 score = 0.0865\n",
      "KNeighborsRegressor: R^2 score = 0.0856\n",
      "ElasticNet: R^2 score = 0.0753\n",
      "SVR: R^2 score = 0.0445\n",
      "AdaBoostRegressor: R^2 score = -1.6063\n",
      "HuberRegressor: R^2 score = -1.9567\n"
     ]
    },
    {
     "name": "stderr",
     "output_type": "stream",
     "text": [
      "c:\\Users\\groch\\Desktop\\eksploracja_danych\\projekt\\jupyter_model\\venv\\lib\\site-packages\\sklearn\\neural_network\\_multilayer_perceptron.py:691: ConvergenceWarning: Stochastic Optimizer: Maximum iterations (200) reached and the optimization hasn't converged yet.\n",
      "  warnings.warn(\n"
     ]
    }
   ],
   "source": [
    "models = [\n",
    "    ('LinearRegression', make_pipeline(StandardScaler(), LinearRegression())),\n",
    "    ('Ridge', make_pipeline(StandardScaler(), Ridge())),\n",
    "    ('Lasso', make_pipeline(StandardScaler(), Lasso())),\n",
    "    ('ElasticNet', make_pipeline(StandardScaler(), ElasticNet())),\n",
    "    ('BayesianRidge', make_pipeline(StandardScaler(), BayesianRidge())),\n",
    "    ('HuberRegressor', make_pipeline(StandardScaler(), HuberRegressor())),\n",
    "    ('DecisionTreeRegressor', DecisionTreeRegressor()),\n",
    "    ('RandomForestRegressor', RandomForestRegressor()),\n",
    "    ('GradientBoostingRegressor', GradientBoostingRegressor()),\n",
    "    ('BaggingRegressor', BaggingRegressor(DecisionTreeRegressor())),\n",
    "    ('ExtraTreesRegressor', ExtraTreesRegressor()),\n",
    "    ('AdaBoostRegressor', AdaBoostRegressor()),\n",
    "    ('SVR', make_pipeline(StandardScaler(), SVR())),\n",
    "    ('KNeighborsRegressor', make_pipeline(StandardScaler(), KNeighborsRegressor())),\n",
    "    ('GaussianProcessRegressor', make_pipeline(StandardScaler(), GaussianProcessRegressor())),\n",
    "    ('MLPRegressor', make_pipeline(StandardScaler(), MLPRegressor())),\n",
    "]\n",
    "\n",
    "results = []\n",
    "for name, model in models:\n",
    "    try:\n",
    "        model.fit(X_train, y_train)\n",
    "        y_pred = model.predict(X_test)\n",
    "        score = r2_score(y_test, y_pred)\n",
    "        print(f\"{name}: R^2 score = {score:.4f}\")\n",
    "        results.append((name, score))\n",
    "    except Exception as e:\n",
    "        print(f\"{name}: Error - {e}\")\n",
    "\n",
    "print(\"\\nSorted Results:\")\n",
    "for name, score in sorted(results, key=lambda x: x[1], reverse=True):\n",
    "    print(f\"{name}: R^2 score = {score:.4f}\")"
   ]
  },
  {
   "cell_type": "markdown",
   "id": "e8265dbb",
   "metadata": {},
   "source": [
    "## Voting approach"
   ]
  },
  {
   "cell_type": "code",
   "execution_count": null,
   "id": "81788c60",
   "metadata": {},
   "outputs": [
    {
     "name": "stderr",
     "output_type": "stream",
     "text": [
      "c:\\Users\\groch\\Desktop\\eksploracja_danych\\projekt\\jupyter_model\\venv\\lib\\site-packages\\sklearn\\neural_network\\_multilayer_perceptron.py:691: ConvergenceWarning: Stochastic Optimizer: Maximum iterations (200) reached and the optimization hasn't converged yet.\n",
      "  warnings.warn(\n"
     ]
    },
    {
     "name": "stdout",
     "output_type": "stream",
     "text": [
      "HuberRegressor: R^2 score = 0.7768\n"
     ]
    }
   ],
   "source": [
    "model_voting =  VotingRegressor([\n",
    "        ('er', ExtraTreesRegressor()),\n",
    "        ('rf', RandomForestRegressor()),\n",
    "        ('gb', GradientBoostingRegressor()),\n",
    "        ('ml', make_pipeline(StandardScaler(), MLPRegressor())),\n",
    "        ('bg', BaggingRegressor(DecisionTreeRegressor()))\n",
    "    ])\n",
    "\n",
    "model_voting.fit(X_train, y_train)\n",
    "y_pred = model_voting.predict(X_test)\n",
    "score = r2_score(y_test, y_pred)\n",
    "print(f\"{name}: R^2 score = {score:.4f}\")"
   ]
  },
  {
   "cell_type": "markdown",
   "id": "6b07cef9",
   "metadata": {},
   "source": [
    "## Automatic algorithm search"
   ]
  },
  {
   "cell_type": "code",
   "execution_count": null,
   "id": "ca19cf7f",
   "metadata": {},
   "outputs": [],
   "source": [
    "automl = autosklearn.regression.AutoSklearnRegressor(\n",
    "    time_left_for_this_task=360,      # total time in seconds for the whole search (e.g., 6 min)\n",
    "    per_run_time_limit=60,            # time limit for training each model\n",
    "    n_jobs=-1,                        # use all available cores\n",
    "    seed=42\n",
    ")\n",
    "\n",
    "# Fit the model to your training data\n",
    "automl.fit(X_train, y_train)\n",
    "\n",
    "# Predict and evaluate\n",
    "y_pred = automl.predict(X_test)\n",
    "score = r2_score(y_test, y_pred)\n",
    "print(f\"Auto-sklearn R^2 score: {score:.4f}\")\n",
    "\n",
    "# Show the models found by auto-sklearn\n",
    "print(automl.show_models())\n",
    "\n",
    "# Show a leaderboard of all models evaluated\n",
    "print(automl.leaderboard())"
   ]
  },
  {
   "cell_type": "markdown",
   "id": "8f737c1e",
   "metadata": {},
   "source": [
    "## Hyperparameter grid search"
   ]
  },
  {
   "cell_type": "code",
   "execution_count": null,
   "id": "2d4cd73d",
   "metadata": {},
   "outputs": [
    {
     "name": "stdout",
     "output_type": "stream",
     "text": [
      "\n",
      "Tuning ExtraTreesRegressor...\n",
      "Fitting 3 folds for each of 108 candidates, totalling 324 fits\n",
      "Best parameters for ExtraTreesRegressor: {'max_depth': None, 'min_samples_leaf': 1, 'min_samples_split': 5, 'n_estimators': 300}\n",
      "Test R^2 score for ExtraTreesRegressor: 0.8169\n",
      "\n",
      "Tuning RandomForestRegressor...\n",
      "Fitting 3 folds for each of 108 candidates, totalling 324 fits\n",
      "Best parameters for RandomForestRegressor: {'max_depth': None, 'min_samples_leaf': 1, 'min_samples_split': 2, 'n_estimators': 300}\n",
      "Test R^2 score for RandomForestRegressor: 0.7411\n",
      "\n",
      "Tuning GradientBoostingRegressor...\n",
      "Fitting 3 folds for each of 36 candidates, totalling 108 fits\n",
      "Best parameters for GradientBoostingRegressor: {'learning_rate': 0.1, 'max_depth': 5, 'n_estimators': 200, 'subsample': 0.8}\n",
      "Test R^2 score for GradientBoostingRegressor: 0.8558\n",
      "\n",
      "Tuning BaggingRegressor...\n",
      "Fitting 3 folds for each of 36 candidates, totalling 108 fits\n",
      "Best parameters for BaggingRegressor: {'max_features': 1.0, 'max_samples': 1.0, 'n_estimators': 100}\n",
      "Test R^2 score for BaggingRegressor: 0.7677\n",
      "\n",
      "Tuning MLPRegressor...\n",
      "Fitting 3 folds for each of 36 candidates, totalling 108 fits\n"
     ]
    },
    {
     "ename": "ValueError",
     "evalue": "Invalid parameter 'mlp' for estimator Pipeline(steps=[('standardscaler', StandardScaler()),\n                ('mlpregressor', MLPRegressor(max_iter=500, random_state=42))]). Valid parameters are: ['memory', 'steps', 'transform_input', 'verbose'].",
     "output_type": "error",
     "traceback": [
      "\u001b[1;31m---------------------------------------------------------------------------\u001b[0m",
      "\u001b[1;31m_RemoteTraceback\u001b[0m                          Traceback (most recent call last)",
      "\u001b[1;31m_RemoteTraceback\u001b[0m: \n\"\"\"\nTraceback (most recent call last):\n  File \"c:\\Users\\groch\\Desktop\\eksploracja_danych\\projekt\\jupyter_model\\venv\\lib\\site-packages\\joblib\\externals\\loky\\process_executor.py\", line 490, in _process_worker\n    r = call_item()\n  File \"c:\\Users\\groch\\Desktop\\eksploracja_danych\\projekt\\jupyter_model\\venv\\lib\\site-packages\\joblib\\externals\\loky\\process_executor.py\", line 291, in __call__\n    return self.fn(*self.args, **self.kwargs)\n  File \"c:\\Users\\groch\\Desktop\\eksploracja_danych\\projekt\\jupyter_model\\venv\\lib\\site-packages\\joblib\\parallel.py\", line 607, in __call__\n    return [func(*args, **kwargs) for func, args, kwargs in self.items]\n  File \"c:\\Users\\groch\\Desktop\\eksploracja_danych\\projekt\\jupyter_model\\venv\\lib\\site-packages\\joblib\\parallel.py\", line 607, in <listcomp>\n    return [func(*args, **kwargs) for func, args, kwargs in self.items]\n  File \"c:\\Users\\groch\\Desktop\\eksploracja_danych\\projekt\\jupyter_model\\venv\\lib\\site-packages\\sklearn\\utils\\parallel.py\", line 139, in __call__\n    return self.function(*args, **kwargs)\n  File \"c:\\Users\\groch\\Desktop\\eksploracja_danych\\projekt\\jupyter_model\\venv\\lib\\site-packages\\sklearn\\model_selection\\_validation.py\", line 854, in _fit_and_score\n    estimator = estimator.set_params(**clone(parameters, safe=False))\n  File \"c:\\Users\\groch\\Desktop\\eksploracja_danych\\projekt\\jupyter_model\\venv\\lib\\site-packages\\sklearn\\pipeline.py\", line 320, in set_params\n    self._set_params(\"steps\", **kwargs)\n  File \"c:\\Users\\groch\\Desktop\\eksploracja_danych\\projekt\\jupyter_model\\venv\\lib\\site-packages\\sklearn\\utils\\metaestimators.py\", line 69, in _set_params\n    super().set_params(**params)\n  File \"c:\\Users\\groch\\Desktop\\eksploracja_danych\\projekt\\jupyter_model\\venv\\lib\\site-packages\\sklearn\\base.py\", line 283, in set_params\n    raise ValueError(\nValueError: Invalid parameter 'mlp' for estimator Pipeline(steps=[('standardscaler', StandardScaler()),\n                ('mlpregressor', MLPRegressor(max_iter=500, random_state=42))]). Valid parameters are: ['memory', 'steps', 'transform_input', 'verbose'].\n\"\"\"",
      "\nThe above exception was the direct cause of the following exception:\n",
      "\u001b[1;31mValueError\u001b[0m                                Traceback (most recent call last)",
      "Cell \u001b[1;32mIn[71], line 62\u001b[0m\n\u001b[0;32m     60\u001b[0m     param_grid \u001b[38;5;241m=\u001b[39m param_grids[name]\n\u001b[0;32m     61\u001b[0m grid \u001b[38;5;241m=\u001b[39m GridSearchCV(model, param_grid, cv\u001b[38;5;241m=\u001b[39m\u001b[38;5;241m3\u001b[39m, scoring\u001b[38;5;241m=\u001b[39m\u001b[38;5;124m'\u001b[39m\u001b[38;5;124mr2\u001b[39m\u001b[38;5;124m'\u001b[39m, n_jobs\u001b[38;5;241m=\u001b[39m\u001b[38;5;241m-\u001b[39m\u001b[38;5;241m1\u001b[39m, verbose\u001b[38;5;241m=\u001b[39m\u001b[38;5;241m2\u001b[39m)\n\u001b[1;32m---> 62\u001b[0m \u001b[43mgrid\u001b[49m\u001b[38;5;241;43m.\u001b[39;49m\u001b[43mfit\u001b[49m\u001b[43m(\u001b[49m\u001b[43mX_train\u001b[49m\u001b[43m,\u001b[49m\u001b[43m \u001b[49m\u001b[43my_train\u001b[49m\u001b[43m)\u001b[49m\n\u001b[0;32m     63\u001b[0m best_estimator \u001b[38;5;241m=\u001b[39m grid\u001b[38;5;241m.\u001b[39mbest_estimator_\n\u001b[0;32m     64\u001b[0m y_pred \u001b[38;5;241m=\u001b[39m best_estimator\u001b[38;5;241m.\u001b[39mpredict(X_test)\n",
      "File \u001b[1;32mc:\\Users\\groch\\Desktop\\eksploracja_danych\\projekt\\jupyter_model\\venv\\lib\\site-packages\\sklearn\\base.py:1389\u001b[0m, in \u001b[0;36m_fit_context.<locals>.decorator.<locals>.wrapper\u001b[1;34m(estimator, *args, **kwargs)\u001b[0m\n\u001b[0;32m   1382\u001b[0m     estimator\u001b[38;5;241m.\u001b[39m_validate_params()\n\u001b[0;32m   1384\u001b[0m \u001b[38;5;28;01mwith\u001b[39;00m config_context(\n\u001b[0;32m   1385\u001b[0m     skip_parameter_validation\u001b[38;5;241m=\u001b[39m(\n\u001b[0;32m   1386\u001b[0m         prefer_skip_nested_validation \u001b[38;5;129;01mor\u001b[39;00m global_skip_validation\n\u001b[0;32m   1387\u001b[0m     )\n\u001b[0;32m   1388\u001b[0m ):\n\u001b[1;32m-> 1389\u001b[0m     \u001b[38;5;28;01mreturn\u001b[39;00m fit_method(estimator, \u001b[38;5;241m*\u001b[39margs, \u001b[38;5;241m*\u001b[39m\u001b[38;5;241m*\u001b[39mkwargs)\n",
      "File \u001b[1;32mc:\\Users\\groch\\Desktop\\eksploracja_danych\\projekt\\jupyter_model\\venv\\lib\\site-packages\\sklearn\\model_selection\\_search.py:1024\u001b[0m, in \u001b[0;36mBaseSearchCV.fit\u001b[1;34m(self, X, y, **params)\u001b[0m\n\u001b[0;32m   1018\u001b[0m     results \u001b[38;5;241m=\u001b[39m \u001b[38;5;28mself\u001b[39m\u001b[38;5;241m.\u001b[39m_format_results(\n\u001b[0;32m   1019\u001b[0m         all_candidate_params, n_splits, all_out, all_more_results\n\u001b[0;32m   1020\u001b[0m     )\n\u001b[0;32m   1022\u001b[0m     \u001b[38;5;28;01mreturn\u001b[39;00m results\n\u001b[1;32m-> 1024\u001b[0m \u001b[38;5;28;43mself\u001b[39;49m\u001b[38;5;241;43m.\u001b[39;49m\u001b[43m_run_search\u001b[49m\u001b[43m(\u001b[49m\u001b[43mevaluate_candidates\u001b[49m\u001b[43m)\u001b[49m\n\u001b[0;32m   1026\u001b[0m \u001b[38;5;66;03m# multimetric is determined here because in the case of a callable\u001b[39;00m\n\u001b[0;32m   1027\u001b[0m \u001b[38;5;66;03m# self.scoring the return type is only known after calling\u001b[39;00m\n\u001b[0;32m   1028\u001b[0m first_test_score \u001b[38;5;241m=\u001b[39m all_out[\u001b[38;5;241m0\u001b[39m][\u001b[38;5;124m\"\u001b[39m\u001b[38;5;124mtest_scores\u001b[39m\u001b[38;5;124m\"\u001b[39m]\n",
      "File \u001b[1;32mc:\\Users\\groch\\Desktop\\eksploracja_danych\\projekt\\jupyter_model\\venv\\lib\\site-packages\\sklearn\\model_selection\\_search.py:1571\u001b[0m, in \u001b[0;36mGridSearchCV._run_search\u001b[1;34m(self, evaluate_candidates)\u001b[0m\n\u001b[0;32m   1569\u001b[0m \u001b[38;5;28;01mdef\u001b[39;00m\u001b[38;5;250m \u001b[39m\u001b[38;5;21m_run_search\u001b[39m(\u001b[38;5;28mself\u001b[39m, evaluate_candidates):\n\u001b[0;32m   1570\u001b[0m \u001b[38;5;250m    \u001b[39m\u001b[38;5;124;03m\"\"\"Search all candidates in param_grid\"\"\"\u001b[39;00m\n\u001b[1;32m-> 1571\u001b[0m     \u001b[43mevaluate_candidates\u001b[49m\u001b[43m(\u001b[49m\u001b[43mParameterGrid\u001b[49m\u001b[43m(\u001b[49m\u001b[38;5;28;43mself\u001b[39;49m\u001b[38;5;241;43m.\u001b[39;49m\u001b[43mparam_grid\u001b[49m\u001b[43m)\u001b[49m\u001b[43m)\u001b[49m\n",
      "File \u001b[1;32mc:\\Users\\groch\\Desktop\\eksploracja_danych\\projekt\\jupyter_model\\venv\\lib\\site-packages\\sklearn\\model_selection\\_search.py:970\u001b[0m, in \u001b[0;36mBaseSearchCV.fit.<locals>.evaluate_candidates\u001b[1;34m(candidate_params, cv, more_results)\u001b[0m\n\u001b[0;32m    962\u001b[0m \u001b[38;5;28;01mif\u001b[39;00m \u001b[38;5;28mself\u001b[39m\u001b[38;5;241m.\u001b[39mverbose \u001b[38;5;241m>\u001b[39m \u001b[38;5;241m0\u001b[39m:\n\u001b[0;32m    963\u001b[0m     \u001b[38;5;28mprint\u001b[39m(\n\u001b[0;32m    964\u001b[0m         \u001b[38;5;124m\"\u001b[39m\u001b[38;5;124mFitting \u001b[39m\u001b[38;5;132;01m{0}\u001b[39;00m\u001b[38;5;124m folds for each of \u001b[39m\u001b[38;5;132;01m{1}\u001b[39;00m\u001b[38;5;124m candidates,\u001b[39m\u001b[38;5;124m\"\u001b[39m\n\u001b[0;32m    965\u001b[0m         \u001b[38;5;124m\"\u001b[39m\u001b[38;5;124m totalling \u001b[39m\u001b[38;5;132;01m{2}\u001b[39;00m\u001b[38;5;124m fits\u001b[39m\u001b[38;5;124m\"\u001b[39m\u001b[38;5;241m.\u001b[39mformat(\n\u001b[0;32m    966\u001b[0m             n_splits, n_candidates, n_candidates \u001b[38;5;241m*\u001b[39m n_splits\n\u001b[0;32m    967\u001b[0m         )\n\u001b[0;32m    968\u001b[0m     )\n\u001b[1;32m--> 970\u001b[0m out \u001b[38;5;241m=\u001b[39m \u001b[43mparallel\u001b[49m\u001b[43m(\u001b[49m\n\u001b[0;32m    971\u001b[0m \u001b[43m    \u001b[49m\u001b[43mdelayed\u001b[49m\u001b[43m(\u001b[49m\u001b[43m_fit_and_score\u001b[49m\u001b[43m)\u001b[49m\u001b[43m(\u001b[49m\n\u001b[0;32m    972\u001b[0m \u001b[43m        \u001b[49m\u001b[43mclone\u001b[49m\u001b[43m(\u001b[49m\u001b[43mbase_estimator\u001b[49m\u001b[43m)\u001b[49m\u001b[43m,\u001b[49m\n\u001b[0;32m    973\u001b[0m \u001b[43m        \u001b[49m\u001b[43mX\u001b[49m\u001b[43m,\u001b[49m\n\u001b[0;32m    974\u001b[0m \u001b[43m        \u001b[49m\u001b[43my\u001b[49m\u001b[43m,\u001b[49m\n\u001b[0;32m    975\u001b[0m \u001b[43m        \u001b[49m\u001b[43mtrain\u001b[49m\u001b[38;5;241;43m=\u001b[39;49m\u001b[43mtrain\u001b[49m\u001b[43m,\u001b[49m\n\u001b[0;32m    976\u001b[0m \u001b[43m        \u001b[49m\u001b[43mtest\u001b[49m\u001b[38;5;241;43m=\u001b[39;49m\u001b[43mtest\u001b[49m\u001b[43m,\u001b[49m\n\u001b[0;32m    977\u001b[0m \u001b[43m        \u001b[49m\u001b[43mparameters\u001b[49m\u001b[38;5;241;43m=\u001b[39;49m\u001b[43mparameters\u001b[49m\u001b[43m,\u001b[49m\n\u001b[0;32m    978\u001b[0m \u001b[43m        \u001b[49m\u001b[43msplit_progress\u001b[49m\u001b[38;5;241;43m=\u001b[39;49m\u001b[43m(\u001b[49m\u001b[43msplit_idx\u001b[49m\u001b[43m,\u001b[49m\u001b[43m \u001b[49m\u001b[43mn_splits\u001b[49m\u001b[43m)\u001b[49m\u001b[43m,\u001b[49m\n\u001b[0;32m    979\u001b[0m \u001b[43m        \u001b[49m\u001b[43mcandidate_progress\u001b[49m\u001b[38;5;241;43m=\u001b[39;49m\u001b[43m(\u001b[49m\u001b[43mcand_idx\u001b[49m\u001b[43m,\u001b[49m\u001b[43m \u001b[49m\u001b[43mn_candidates\u001b[49m\u001b[43m)\u001b[49m\u001b[43m,\u001b[49m\n\u001b[0;32m    980\u001b[0m \u001b[43m        \u001b[49m\u001b[38;5;241;43m*\u001b[39;49m\u001b[38;5;241;43m*\u001b[39;49m\u001b[43mfit_and_score_kwargs\u001b[49m\u001b[43m,\u001b[49m\n\u001b[0;32m    981\u001b[0m \u001b[43m    \u001b[49m\u001b[43m)\u001b[49m\n\u001b[0;32m    982\u001b[0m \u001b[43m    \u001b[49m\u001b[38;5;28;43;01mfor\u001b[39;49;00m\u001b[43m \u001b[49m\u001b[43m(\u001b[49m\u001b[43mcand_idx\u001b[49m\u001b[43m,\u001b[49m\u001b[43m \u001b[49m\u001b[43mparameters\u001b[49m\u001b[43m)\u001b[49m\u001b[43m,\u001b[49m\u001b[43m \u001b[49m\u001b[43m(\u001b[49m\u001b[43msplit_idx\u001b[49m\u001b[43m,\u001b[49m\u001b[43m \u001b[49m\u001b[43m(\u001b[49m\u001b[43mtrain\u001b[49m\u001b[43m,\u001b[49m\u001b[43m \u001b[49m\u001b[43mtest\u001b[49m\u001b[43m)\u001b[49m\u001b[43m)\u001b[49m\u001b[43m \u001b[49m\u001b[38;5;129;43;01min\u001b[39;49;00m\u001b[43m \u001b[49m\u001b[43mproduct\u001b[49m\u001b[43m(\u001b[49m\n\u001b[0;32m    983\u001b[0m \u001b[43m        \u001b[49m\u001b[38;5;28;43menumerate\u001b[39;49m\u001b[43m(\u001b[49m\u001b[43mcandidate_params\u001b[49m\u001b[43m)\u001b[49m\u001b[43m,\u001b[49m\n\u001b[0;32m    984\u001b[0m \u001b[43m        \u001b[49m\u001b[38;5;28;43menumerate\u001b[39;49m\u001b[43m(\u001b[49m\u001b[43mcv\u001b[49m\u001b[38;5;241;43m.\u001b[39;49m\u001b[43msplit\u001b[49m\u001b[43m(\u001b[49m\u001b[43mX\u001b[49m\u001b[43m,\u001b[49m\u001b[43m \u001b[49m\u001b[43my\u001b[49m\u001b[43m,\u001b[49m\u001b[43m \u001b[49m\u001b[38;5;241;43m*\u001b[39;49m\u001b[38;5;241;43m*\u001b[39;49m\u001b[43mrouted_params\u001b[49m\u001b[38;5;241;43m.\u001b[39;49m\u001b[43msplitter\u001b[49m\u001b[38;5;241;43m.\u001b[39;49m\u001b[43msplit\u001b[49m\u001b[43m)\u001b[49m\u001b[43m)\u001b[49m\u001b[43m,\u001b[49m\n\u001b[0;32m    985\u001b[0m \u001b[43m    \u001b[49m\u001b[43m)\u001b[49m\n\u001b[0;32m    986\u001b[0m \u001b[43m\u001b[49m\u001b[43m)\u001b[49m\n\u001b[0;32m    988\u001b[0m \u001b[38;5;28;01mif\u001b[39;00m \u001b[38;5;28mlen\u001b[39m(out) \u001b[38;5;241m<\u001b[39m \u001b[38;5;241m1\u001b[39m:\n\u001b[0;32m    989\u001b[0m     \u001b[38;5;28;01mraise\u001b[39;00m \u001b[38;5;167;01mValueError\u001b[39;00m(\n\u001b[0;32m    990\u001b[0m         \u001b[38;5;124m\"\u001b[39m\u001b[38;5;124mNo fits were performed. \u001b[39m\u001b[38;5;124m\"\u001b[39m\n\u001b[0;32m    991\u001b[0m         \u001b[38;5;124m\"\u001b[39m\u001b[38;5;124mWas the CV iterator empty? \u001b[39m\u001b[38;5;124m\"\u001b[39m\n\u001b[0;32m    992\u001b[0m         \u001b[38;5;124m\"\u001b[39m\u001b[38;5;124mWere there no candidates?\u001b[39m\u001b[38;5;124m\"\u001b[39m\n\u001b[0;32m    993\u001b[0m     )\n",
      "File \u001b[1;32mc:\\Users\\groch\\Desktop\\eksploracja_danych\\projekt\\jupyter_model\\venv\\lib\\site-packages\\sklearn\\utils\\parallel.py:77\u001b[0m, in \u001b[0;36mParallel.__call__\u001b[1;34m(self, iterable)\u001b[0m\n\u001b[0;32m     72\u001b[0m config \u001b[38;5;241m=\u001b[39m get_config()\n\u001b[0;32m     73\u001b[0m iterable_with_config \u001b[38;5;241m=\u001b[39m (\n\u001b[0;32m     74\u001b[0m     (_with_config(delayed_func, config), args, kwargs)\n\u001b[0;32m     75\u001b[0m     \u001b[38;5;28;01mfor\u001b[39;00m delayed_func, args, kwargs \u001b[38;5;129;01min\u001b[39;00m iterable\n\u001b[0;32m     76\u001b[0m )\n\u001b[1;32m---> 77\u001b[0m \u001b[38;5;28;01mreturn\u001b[39;00m \u001b[38;5;28;43msuper\u001b[39;49m\u001b[43m(\u001b[49m\u001b[43m)\u001b[49m\u001b[38;5;241;43m.\u001b[39;49m\u001b[38;5;21;43m__call__\u001b[39;49m\u001b[43m(\u001b[49m\u001b[43miterable_with_config\u001b[49m\u001b[43m)\u001b[49m\n",
      "File \u001b[1;32mc:\\Users\\groch\\Desktop\\eksploracja_danych\\projekt\\jupyter_model\\venv\\lib\\site-packages\\joblib\\parallel.py:2072\u001b[0m, in \u001b[0;36mParallel.__call__\u001b[1;34m(self, iterable)\u001b[0m\n\u001b[0;32m   2066\u001b[0m \u001b[38;5;66;03m# The first item from the output is blank, but it makes the interpreter\u001b[39;00m\n\u001b[0;32m   2067\u001b[0m \u001b[38;5;66;03m# progress until it enters the Try/Except block of the generator and\u001b[39;00m\n\u001b[0;32m   2068\u001b[0m \u001b[38;5;66;03m# reaches the first `yield` statement. This starts the asynchronous\u001b[39;00m\n\u001b[0;32m   2069\u001b[0m \u001b[38;5;66;03m# dispatch of the tasks to the workers.\u001b[39;00m\n\u001b[0;32m   2070\u001b[0m \u001b[38;5;28mnext\u001b[39m(output)\n\u001b[1;32m-> 2072\u001b[0m \u001b[38;5;28;01mreturn\u001b[39;00m output \u001b[38;5;28;01mif\u001b[39;00m \u001b[38;5;28mself\u001b[39m\u001b[38;5;241m.\u001b[39mreturn_generator \u001b[38;5;28;01melse\u001b[39;00m \u001b[38;5;28;43mlist\u001b[39;49m\u001b[43m(\u001b[49m\u001b[43moutput\u001b[49m\u001b[43m)\u001b[49m\n",
      "File \u001b[1;32mc:\\Users\\groch\\Desktop\\eksploracja_danych\\projekt\\jupyter_model\\venv\\lib\\site-packages\\joblib\\parallel.py:1682\u001b[0m, in \u001b[0;36mParallel._get_outputs\u001b[1;34m(self, iterator, pre_dispatch)\u001b[0m\n\u001b[0;32m   1679\u001b[0m     \u001b[38;5;28;01myield\u001b[39;00m\n\u001b[0;32m   1681\u001b[0m     \u001b[38;5;28;01mwith\u001b[39;00m \u001b[38;5;28mself\u001b[39m\u001b[38;5;241m.\u001b[39m_backend\u001b[38;5;241m.\u001b[39mretrieval_context():\n\u001b[1;32m-> 1682\u001b[0m         \u001b[38;5;28;01myield from\u001b[39;00m \u001b[38;5;28mself\u001b[39m\u001b[38;5;241m.\u001b[39m_retrieve()\n\u001b[0;32m   1684\u001b[0m \u001b[38;5;28;01mexcept\u001b[39;00m \u001b[38;5;167;01mGeneratorExit\u001b[39;00m:\n\u001b[0;32m   1685\u001b[0m     \u001b[38;5;66;03m# The generator has been garbage collected before being fully\u001b[39;00m\n\u001b[0;32m   1686\u001b[0m     \u001b[38;5;66;03m# consumed. This aborts the remaining tasks if possible and warn\u001b[39;00m\n\u001b[0;32m   1687\u001b[0m     \u001b[38;5;66;03m# the user if necessary.\u001b[39;00m\n\u001b[0;32m   1688\u001b[0m     \u001b[38;5;28mself\u001b[39m\u001b[38;5;241m.\u001b[39m_exception \u001b[38;5;241m=\u001b[39m \u001b[38;5;28;01mTrue\u001b[39;00m\n",
      "File \u001b[1;32mc:\\Users\\groch\\Desktop\\eksploracja_danych\\projekt\\jupyter_model\\venv\\lib\\site-packages\\joblib\\parallel.py:1784\u001b[0m, in \u001b[0;36mParallel._retrieve\u001b[1;34m(self)\u001b[0m\n\u001b[0;32m   1778\u001b[0m \u001b[38;5;28;01mwhile\u001b[39;00m \u001b[38;5;28mself\u001b[39m\u001b[38;5;241m.\u001b[39m_wait_retrieval():\n\u001b[0;32m   1779\u001b[0m     \u001b[38;5;66;03m# If the callback thread of a worker has signaled that its task\u001b[39;00m\n\u001b[0;32m   1780\u001b[0m     \u001b[38;5;66;03m# triggered an exception, or if the retrieval loop has raised an\u001b[39;00m\n\u001b[0;32m   1781\u001b[0m     \u001b[38;5;66;03m# exception (e.g. `GeneratorExit`), exit the loop and surface the\u001b[39;00m\n\u001b[0;32m   1782\u001b[0m     \u001b[38;5;66;03m# worker traceback.\u001b[39;00m\n\u001b[0;32m   1783\u001b[0m     \u001b[38;5;28;01mif\u001b[39;00m \u001b[38;5;28mself\u001b[39m\u001b[38;5;241m.\u001b[39m_aborting:\n\u001b[1;32m-> 1784\u001b[0m         \u001b[38;5;28;43mself\u001b[39;49m\u001b[38;5;241;43m.\u001b[39;49m\u001b[43m_raise_error_fast\u001b[49m\u001b[43m(\u001b[49m\u001b[43m)\u001b[49m\n\u001b[0;32m   1785\u001b[0m         \u001b[38;5;28;01mbreak\u001b[39;00m\n\u001b[0;32m   1787\u001b[0m     nb_jobs \u001b[38;5;241m=\u001b[39m \u001b[38;5;28mlen\u001b[39m(\u001b[38;5;28mself\u001b[39m\u001b[38;5;241m.\u001b[39m_jobs)\n",
      "File \u001b[1;32mc:\\Users\\groch\\Desktop\\eksploracja_danych\\projekt\\jupyter_model\\venv\\lib\\site-packages\\joblib\\parallel.py:1859\u001b[0m, in \u001b[0;36mParallel._raise_error_fast\u001b[1;34m(self)\u001b[0m\n\u001b[0;32m   1855\u001b[0m \u001b[38;5;66;03m# If this error job exists, immediately raise the error by\u001b[39;00m\n\u001b[0;32m   1856\u001b[0m \u001b[38;5;66;03m# calling get_result. This job might not exists if abort has been\u001b[39;00m\n\u001b[0;32m   1857\u001b[0m \u001b[38;5;66;03m# called directly or if the generator is gc'ed.\u001b[39;00m\n\u001b[0;32m   1858\u001b[0m \u001b[38;5;28;01mif\u001b[39;00m error_job \u001b[38;5;129;01mis\u001b[39;00m \u001b[38;5;129;01mnot\u001b[39;00m \u001b[38;5;28;01mNone\u001b[39;00m:\n\u001b[1;32m-> 1859\u001b[0m     \u001b[43merror_job\u001b[49m\u001b[38;5;241;43m.\u001b[39;49m\u001b[43mget_result\u001b[49m\u001b[43m(\u001b[49m\u001b[38;5;28;43mself\u001b[39;49m\u001b[38;5;241;43m.\u001b[39;49m\u001b[43mtimeout\u001b[49m\u001b[43m)\u001b[49m\n",
      "File \u001b[1;32mc:\\Users\\groch\\Desktop\\eksploracja_danych\\projekt\\jupyter_model\\venv\\lib\\site-packages\\joblib\\parallel.py:758\u001b[0m, in \u001b[0;36mBatchCompletionCallBack.get_result\u001b[1;34m(self, timeout)\u001b[0m\n\u001b[0;32m    752\u001b[0m backend \u001b[38;5;241m=\u001b[39m \u001b[38;5;28mself\u001b[39m\u001b[38;5;241m.\u001b[39mparallel\u001b[38;5;241m.\u001b[39m_backend\n\u001b[0;32m    754\u001b[0m \u001b[38;5;28;01mif\u001b[39;00m backend\u001b[38;5;241m.\u001b[39msupports_retrieve_callback:\n\u001b[0;32m    755\u001b[0m     \u001b[38;5;66;03m# We assume that the result has already been retrieved by the\u001b[39;00m\n\u001b[0;32m    756\u001b[0m     \u001b[38;5;66;03m# callback thread, and is stored internally. It's just waiting to\u001b[39;00m\n\u001b[0;32m    757\u001b[0m     \u001b[38;5;66;03m# be returned.\u001b[39;00m\n\u001b[1;32m--> 758\u001b[0m     \u001b[38;5;28;01mreturn\u001b[39;00m \u001b[38;5;28;43mself\u001b[39;49m\u001b[38;5;241;43m.\u001b[39;49m\u001b[43m_return_or_raise\u001b[49m\u001b[43m(\u001b[49m\u001b[43m)\u001b[49m\n\u001b[0;32m    760\u001b[0m \u001b[38;5;66;03m# For other backends, the main thread needs to run the retrieval step.\u001b[39;00m\n\u001b[0;32m    761\u001b[0m \u001b[38;5;28;01mtry\u001b[39;00m:\n",
      "File \u001b[1;32mc:\\Users\\groch\\Desktop\\eksploracja_danych\\projekt\\jupyter_model\\venv\\lib\\site-packages\\joblib\\parallel.py:773\u001b[0m, in \u001b[0;36mBatchCompletionCallBack._return_or_raise\u001b[1;34m(self)\u001b[0m\n\u001b[0;32m    771\u001b[0m \u001b[38;5;28;01mtry\u001b[39;00m:\n\u001b[0;32m    772\u001b[0m     \u001b[38;5;28;01mif\u001b[39;00m \u001b[38;5;28mself\u001b[39m\u001b[38;5;241m.\u001b[39mstatus \u001b[38;5;241m==\u001b[39m TASK_ERROR:\n\u001b[1;32m--> 773\u001b[0m         \u001b[38;5;28;01mraise\u001b[39;00m \u001b[38;5;28mself\u001b[39m\u001b[38;5;241m.\u001b[39m_result\n\u001b[0;32m    774\u001b[0m     \u001b[38;5;28;01mreturn\u001b[39;00m \u001b[38;5;28mself\u001b[39m\u001b[38;5;241m.\u001b[39m_result\n\u001b[0;32m    775\u001b[0m \u001b[38;5;28;01mfinally\u001b[39;00m:\n",
      "\u001b[1;31mValueError\u001b[0m: Invalid parameter 'mlp' for estimator Pipeline(steps=[('standardscaler', StandardScaler()),\n                ('mlpregressor', MLPRegressor(max_iter=500, random_state=42))]). Valid parameters are: ['memory', 'steps', 'transform_input', 'verbose']."
     ]
    }
   ],
   "source": [
    "param_grids = {\n",
    "    \"ExtraTreesRegressor\": {\n",
    "        \"n_estimators\": [100, 200, 300],\n",
    "        \"max_depth\": [None, 10, 30, 50],\n",
    "        \"min_samples_split\": [2, 5, 10],\n",
    "        \"min_samples_leaf\": [1, 2, 4]\n",
    "    },\n",
    "    \"RandomForestRegressor\": {\n",
    "        \"n_estimators\": [100, 200, 300],\n",
    "        \"max_depth\": [None, 10, 30, 50],\n",
    "        \"min_samples_split\": [2, 5, 10],\n",
    "        \"min_samples_leaf\": [1, 2, 4]\n",
    "    },\n",
    "    \"GradientBoostingRegressor\": {\n",
    "        \"n_estimators\": [100, 200],\n",
    "        \"learning_rate\": [0.01, 0.05, 0.1],\n",
    "        \"max_depth\": [3, 5, 10],\n",
    "        \"subsample\": [0.8, 1.0]\n",
    "    },\n",
    "    \"BaggingRegressor\": {\n",
    "        \"n_estimators\": [10, 20, 50, 100],\n",
    "        \"max_samples\": [0.5, 0.8, 1.0],\n",
    "        \"max_features\": [0.5, 0.8, 1.0]\n",
    "    }\n",
    "}\n",
    "\n",
    "models = {\n",
    "    \"ExtraTreesRegressor\": ExtraTreesRegressor(random_state=42),\n",
    "    \"RandomForestRegressor\": RandomForestRegressor(random_state=42),\n",
    "    \"GradientBoostingRegressor\": GradientBoostingRegressor(random_state=42),\n",
    "    \"BaggingRegressor\": BaggingRegressor(random_state=42),\n",
    "}\n",
    "\n",
    "for name, model in models.items():\n",
    "    print(f\"\\nTuning {name}...\")\n",
    "    param_grid = param_grids[name]\n",
    "    grid = GridSearchCV(model, param_grid, cv=3, scoring='r2', n_jobs=-1, verbose=2)\n",
    "    grid.fit(X_train, y_train)\n",
    "    best_estimator = grid.best_estimator_\n",
    "    y_pred = best_estimator.predict(X_test)\n",
    "    score = r2_score(y_test, y_pred)\n",
    "    print(f\"Best parameters for {name}: {grid.best_params_}\")\n",
    "    print(f\"Test R^2 score for {name}: {score:.4f}\")"
   ]
  },
  {
   "cell_type": "markdown",
   "id": "4ee486ec",
   "metadata": {},
   "source": [
    "## Hyperparameter random grid search"
   ]
  },
  {
   "cell_type": "code",
   "execution_count": null,
   "id": "fbbfbb38",
   "metadata": {},
   "outputs": [
    {
     "name": "stdout",
     "output_type": "stream",
     "text": [
      "\n",
      "Randomized search for ExtraTreesRegressor...\n",
      "Fitting 3 folds for each of 30 candidates, totalling 90 fits\n",
      "Best parameters for ExtraTreesRegressor: {'max_depth': 30, 'min_samples_leaf': 1, 'min_samples_split': 2, 'n_estimators': 413}\n",
      "Test R^2 score for ExtraTreesRegressor: 0.8068\n",
      "\n",
      "Randomized search for RandomForestRegressor...\n",
      "Fitting 3 folds for each of 30 candidates, totalling 90 fits\n",
      "Best parameters for RandomForestRegressor: {'max_depth': 30, 'min_samples_leaf': 1, 'min_samples_split': 2, 'n_estimators': 413}\n",
      "Test R^2 score for RandomForestRegressor: 0.7428\n",
      "\n",
      "Randomized search for GradientBoostingRegressor...\n",
      "Fitting 3 folds for each of 30 candidates, totalling 90 fits\n",
      "Best parameters for GradientBoostingRegressor: {'learning_rate': np.float64(0.18832501471299254), 'max_depth': 4, 'n_estimators': 291, 'subsample': np.float64(0.9976634677873653)}\n",
      "Test R^2 score for GradientBoostingRegressor: 0.7640\n",
      "\n",
      "Randomized search for BaggingRegressor...\n",
      "Fitting 3 folds for each of 30 candidates, totalling 90 fits\n",
      "Best parameters for BaggingRegressor: {'max_features': np.float64(0.9961057796456088), 'max_samples': np.float64(0.8087407548138583), 'n_estimators': 67}\n",
      "Test R^2 score for BaggingRegressor: 0.7328\n"
     ]
    }
   ],
   "source": [
    "param_dists = {\n",
    "    \"ExtraTreesRegressor\": {\n",
    "        \"n_estimators\": randint(100, 500),\n",
    "        \"max_depth\": [None] + list(range(10, 51, 10)),\n",
    "        \"min_samples_split\": randint(2, 11),\n",
    "        \"min_samples_leaf\": randint(1, 5)\n",
    "    },\n",
    "    \"RandomForestRegressor\": {\n",
    "        \"n_estimators\": randint(100, 500),\n",
    "        \"max_depth\": [None] + list(range(10, 51, 10)),\n",
    "        \"min_samples_split\": randint(2, 11),\n",
    "        \"min_samples_leaf\": randint(1, 5)\n",
    "    },\n",
    "    \"GradientBoostingRegressor\": {\n",
    "        \"n_estimators\": randint(100, 400),\n",
    "        \"learning_rate\": uniform(0.01, 0.19),\n",
    "        \"max_depth\": randint(3, 11),\n",
    "        \"subsample\": uniform(0.7, 0.3)\n",
    "    },\n",
    "    \"BaggingRegressor\": {\n",
    "        \"n_estimators\": randint(10, 101),\n",
    "        \"max_samples\": uniform(0.5, 0.5),\n",
    "        \"max_features\": uniform(0.5, 0.5)\n",
    "    }\n",
    "}\n",
    "\n",
    "models = {\n",
    "    \"ExtraTreesRegressor\": ExtraTreesRegressor(random_state=42),\n",
    "    \"RandomForestRegressor\": RandomForestRegressor(random_state=42),\n",
    "    \"GradientBoostingRegressor\": GradientBoostingRegressor(random_state=42),\n",
    "    \"BaggingRegressor\": BaggingRegressor(random_state=42),\n",
    "}\n",
    "\n",
    "n_iter_search = 30\n",
    "\n",
    "for name, model in models.items():\n",
    "    print(f\"\\nRandomized search for {name}...\")\n",
    "    search = RandomizedSearchCV(\n",
    "        model,\n",
    "        param_distributions=param_dists[name],\n",
    "        n_iter=n_iter_search,\n",
    "        scoring='r2',\n",
    "        n_jobs=-1,\n",
    "        cv=3,\n",
    "        verbose=2,\n",
    "        random_state=42\n",
    "    )\n",
    "    search.fit(X_train, y_train)\n",
    "    best_model = search.best_estimator_\n",
    "    y_pred = best_model.predict(X_test)\n",
    "    score = r2_score(y_test, y_pred)\n",
    "    print(f\"Best parameters for {name}: {search.best_params_}\")\n",
    "    print(f\"Test R^2 score for {name}: {score:.4f}\")"
   ]
  },
  {
   "cell_type": "markdown",
   "id": "c73da765",
   "metadata": {},
   "source": [
    "## Final training"
   ]
  },
  {
   "cell_type": "code",
   "execution_count": null,
   "id": "273c2bdd",
   "metadata": {},
   "outputs": [
    {
     "name": "stdout",
     "output_type": "stream",
     "text": [
      "R^2 score = 0.9123\n",
      "MAE score = 8.0220\n",
      "RMSE score = 136.2538\n"
     ]
    }
   ],
   "source": [
    "y = flights_final[target]\n",
    "X = flights_final.drop(columns=[target])\n",
    "X = X.drop(columns=easy_features)\n",
    "X_train, X_test, y_train, y_test = train_test_split(X, y, test_size=0.2)\n",
    "\n",
    "\n",
    "model = GradientBoostingRegressor(learning_rate = 0.1, max_depth = 5, n_estimators = 200, subsample = 0.8)\n",
    "\n",
    "model.fit(X_train, y_train)\n",
    "y_pred = model.predict(X_test)\n",
    "r2 = r2_score(y_test, y_pred)\n",
    "print(f\"R^2 score = {r2:.4f}\")\n",
    "mae = mean_absolute_error(y_test, y_pred)\n",
    "print(f\"MAE score = {mae:.4f}\")\n",
    "rmse = mean_squared_error(y_test, y_pred)\n",
    "print(f\"RMSE score = {rmse:.4f}\")"
   ]
  }
 ],
 "metadata": {
  "kernelspec": {
   "display_name": "venv",
   "language": "python",
   "name": "python3"
  },
  "language_info": {
   "codemirror_mode": {
    "name": "ipython",
    "version": 3
   },
   "file_extension": ".py",
   "mimetype": "text/x-python",
   "name": "python",
   "nbconvert_exporter": "python",
   "pygments_lexer": "ipython3",
   "version": "3.9.0"
  }
 },
 "nbformat": 4,
 "nbformat_minor": 5
}
