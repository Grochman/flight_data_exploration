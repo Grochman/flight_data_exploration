{
 "cells": [
  {
   "cell_type": "code",
   "execution_count": null,
   "id": "8d759665",
   "metadata": {},
   "outputs": [],
   "source": [
    "import pandas as pd\n",
    "import matplotlib.pyplot as plt\n",
    "import seaborn as sns\n",
    "\n",
    "from sklearn.tree import DecisionTreeRegressor\n",
    "from sklearn.neighbors import KNeighborsRegressor\n",
    "from sklearn.gaussian_process import GaussianProcessRegressor\n",
    "from sklearn.neural_network import MLPRegressor\n",
    "from sklearn.preprocessing import StandardScaler\n",
    "from sklearn.linear_model import LinearRegression, Ridge, Lasso, ElasticNet, BayesianRidge, HuberRegressor\n",
    "from sklearn.ensemble import RandomForestRegressor, GradientBoostingRegressor, BaggingRegressor, ExtraTreesRegressor, AdaBoostRegressor, VotingRegressor\n",
    "from sklearn.svm import SVR\n",
    "\n",
    "from sklearn.model_selection import GridSearchCV, RandomizedSearchCV\n",
    "\n",
    "from sklearn.pipeline import make_pipeline\n",
    "from sklearn.model_selection import train_test_split\n",
    "from sklearn.metrics import mean_squared_error, mean_absolute_error, r2_score\n",
    "\n",
    "from scipy.stats import randint, uniform\n"
   ]
  },
  {
   "cell_type": "markdown",
   "id": "44b21ba0",
   "metadata": {},
   "source": [
    "# Data preparation"
   ]
  },
  {
   "cell_type": "markdown",
   "id": "ccceb904",
   "metadata": {},
   "source": [
    "## Import"
   ]
  },
  {
   "cell_type": "code",
   "execution_count": 13,
   "id": "aa744123",
   "metadata": {},
   "outputs": [
    {
     "name": "stdout",
     "output_type": "stream",
     "text": [
      "<class 'pandas.core.frame.DataFrame'>\n",
      "RangeIndex: 322 entries, 0 to 321\n",
      "Data columns (total 7 columns):\n",
      " #   Column     Non-Null Count  Dtype  \n",
      "---  ------     --------------  -----  \n",
      " 0   IATA_CODE  322 non-null    object \n",
      " 1   AIRPORT    322 non-null    object \n",
      " 2   CITY       322 non-null    object \n",
      " 3   STATE      322 non-null    object \n",
      " 4   COUNTRY    322 non-null    object \n",
      " 5   LATITUDE   319 non-null    float64\n",
      " 6   LONGITUDE  319 non-null    float64\n",
      "dtypes: float64(2), object(5)\n",
      "memory usage: 17.7+ KB\n",
      "<class 'pandas.core.frame.DataFrame'>\n",
      "RangeIndex: 5819079 entries, 0 to 5819078\n",
      "Data columns (total 31 columns):\n",
      " #   Column               Dtype  \n",
      "---  ------               -----  \n",
      " 0   YEAR                 int64  \n",
      " 1   MONTH                int64  \n",
      " 2   DAY                  int64  \n",
      " 3   DAY_OF_WEEK          int64  \n",
      " 4   AIRLINE              object \n",
      " 5   FLIGHT_NUMBER        int64  \n",
      " 6   TAIL_NUMBER          object \n",
      " 7   ORIGIN_AIRPORT       object \n",
      " 8   DESTINATION_AIRPORT  object \n",
      " 9   SCHEDULED_DEPARTURE  int64  \n",
      " 10  DEPARTURE_TIME       float64\n",
      " 11  DEPARTURE_DELAY      float64\n",
      " 12  TAXI_OUT             float64\n",
      " 13  WHEELS_OFF           float64\n",
      " 14  SCHEDULED_TIME       float64\n",
      " 15  ELAPSED_TIME         float64\n",
      " 16  AIR_TIME             float64\n",
      " 17  DISTANCE             int64  \n",
      " 18  WHEELS_ON            float64\n",
      " 19  TAXI_IN              float64\n",
      " 20  SCHEDULED_ARRIVAL    int64  \n",
      " 21  ARRIVAL_TIME         float64\n",
      " 22  ARRIVAL_DELAY        float64\n",
      " 23  DIVERTED             int64  \n",
      " 24  CANCELLED            int64  \n",
      " 25  CANCELLATION_REASON  object \n",
      " 26  AIR_SYSTEM_DELAY     float64\n",
      " 27  SECURITY_DELAY       float64\n",
      " 28  AIRLINE_DELAY        float64\n",
      " 29  LATE_AIRCRAFT_DELAY  float64\n",
      " 30  WEATHER_DELAY        float64\n",
      "dtypes: float64(16), int64(10), object(5)\n",
      "memory usage: 1.3+ GB\n"
     ]
    }
   ],
   "source": [
    "flights = pd.read_csv(\"data/flights.csv\", low_memory=False)\n",
    "airports = pd.read_csv(\"data/airports.csv\", low_memory=False)\n",
    "\n",
    "airports.info()\n",
    "flights.info()"
   ]
  },
  {
   "cell_type": "markdown",
   "id": "e165c81b",
   "metadata": {},
   "source": [
    "## Cleanup missing data"
   ]
  },
  {
   "cell_type": "code",
   "execution_count": 14,
   "id": "c3dfde1b",
   "metadata": {},
   "outputs": [],
   "source": [
    "flights_cleaned = flights[flights[\"CANCELLED\"] == 0]\n",
    "\n",
    "features = [ \n",
    "    \"MONTH\",\"DAY\",\"DAY_OF_WEEK\",\"AIRLINE\",\"FLIGHT_NUMBER\",\"TAIL_NUMBER\",\n",
    "    \"ORIGIN_AIRPORT\",\"DESTINATION_AIRPORT\",\"SCHEDULED_DEPARTURE\",\"DEPARTURE_TIME\",\"DEPARTURE_DELAY\",\n",
    "    \"TAXI_OUT\",\"WHEELS_OFF\",\"SCHEDULED_TIME\",\"ELAPSED_TIME\",\"AIR_TIME\",\"DISTANCE\",\"WHEELS_ON\",\"TAXI_IN\",\n",
    "    \"SCHEDULED_ARRIVAL\",\"ARRIVAL_TIME\",\"ARRIVAL_DELAY\",\n",
    "    \"AIR_SYSTEM_DELAY\",\"SECURITY_DELAY\",\"AIRLINE_DELAY\",\"LATE_AIRCRAFT_DELAY\",\"WEATHER_DELAY\"\n",
    "]\n",
    "flights_cleaned = flights_cleaned[features]\n",
    "missing_data = [\n",
    "    \"AIR_SYSTEM_DELAY\", \"SECURITY_DELAY\", \"AIRLINE_DELAY\",\n",
    "    \"LATE_AIRCRAFT_DELAY\", \"WEATHER_DELAY\"\n",
    "]\n",
    "flights_cleaned[missing_data] = flights_cleaned[missing_data].fillna(0)"
   ]
  },
  {
   "cell_type": "markdown",
   "id": "eb72bef3",
   "metadata": {},
   "source": [
    "## Enhance data with airport info"
   ]
  },
  {
   "cell_type": "code",
   "execution_count": 15,
   "id": "dde1421e",
   "metadata": {},
   "outputs": [],
   "source": [
    "airports.rename(columns={\"IATA_CODE\": \"ORIGIN_AIRPORT\"}, inplace=True)\n",
    "flights_enhanced = flights_cleaned.merge(airports[[\"ORIGIN_AIRPORT\", \"LATITUDE\", \"LONGITUDE\", \"STATE\", \"CITY\"]],\n",
    "                        on=\"ORIGIN_AIRPORT\", how=\"left\")\n",
    "flights_enhanced.rename(columns={\"LATITUDE\": \"ORIGIN_LAT\", \"LONGITUDE\": \"ORIGIN_LON\", \"STATE\": \"ORIGIN_STATE\", \"CITY\": \"ORIGIN_CITY\"}, inplace=True)\n",
    "\n",
    "airports.rename(columns={\"ORIGIN_AIRPORT\": \"DESTINATION_AIRPORT\"}, inplace=True)\n",
    "flights_enhanced = flights_enhanced.merge(airports[[\"DESTINATION_AIRPORT\", \"LATITUDE\", \"LONGITUDE\", \"STATE\", \"CITY\"]],\n",
    "                        on=\"DESTINATION_AIRPORT\", how=\"left\")\n",
    "flights_enhanced.rename(columns={\"LATITUDE\": \"DEST_LAT\", \"LONGITUDE\": \"DEST_LON\", \"STATE\": \"DEST_STATE\", \"CITY\": \"DEST_CITY\"}, inplace=True)\n",
    "\n",
    "flights_enhanced.dropna(inplace=True)"
   ]
  },
  {
   "cell_type": "markdown",
   "id": "2e5aa90c",
   "metadata": {},
   "source": [
    "## Drop non numeric"
   ]
  },
  {
   "cell_type": "code",
   "execution_count": 16,
   "id": "e09ea3db",
   "metadata": {},
   "outputs": [
    {
     "name": "stdout",
     "output_type": "stream",
     "text": [
      "<class 'pandas.core.frame.DataFrame'>\n",
      "Index: 5222000 entries, 0 to 5729194\n",
      "Data columns (total 27 columns):\n",
      " #   Column               Dtype  \n",
      "---  ------               -----  \n",
      " 0   MONTH                int64  \n",
      " 1   DAY                  int64  \n",
      " 2   DAY_OF_WEEK          int64  \n",
      " 3   FLIGHT_NUMBER        int64  \n",
      " 4   SCHEDULED_DEPARTURE  int64  \n",
      " 5   DEPARTURE_TIME       float64\n",
      " 6   DEPARTURE_DELAY      float64\n",
      " 7   TAXI_OUT             float64\n",
      " 8   WHEELS_OFF           float64\n",
      " 9   SCHEDULED_TIME       float64\n",
      " 10  ELAPSED_TIME         float64\n",
      " 11  AIR_TIME             float64\n",
      " 12  DISTANCE             int64  \n",
      " 13  WHEELS_ON            float64\n",
      " 14  TAXI_IN              float64\n",
      " 15  SCHEDULED_ARRIVAL    int64  \n",
      " 16  ARRIVAL_TIME         float64\n",
      " 17  ARRIVAL_DELAY        float64\n",
      " 18  AIR_SYSTEM_DELAY     float64\n",
      " 19  SECURITY_DELAY       float64\n",
      " 20  AIRLINE_DELAY        float64\n",
      " 21  LATE_AIRCRAFT_DELAY  float64\n",
      " 22  WEATHER_DELAY        float64\n",
      " 23  ORIGIN_LAT           float64\n",
      " 24  ORIGIN_LON           float64\n",
      " 25  DEST_LAT             float64\n",
      " 26  DEST_LON             float64\n",
      "dtypes: float64(20), int64(7)\n",
      "memory usage: 1.1 GB\n"
     ]
    }
   ],
   "source": [
    "categorical = flights_enhanced.select_dtypes(include=[\"object\", \"category\"]).columns.tolist()\n",
    "\n",
    "flights_final = flights_enhanced.drop(columns=categorical)\n",
    "flights_final.info()"
   ]
  },
  {
   "cell_type": "markdown",
   "id": "395e96df",
   "metadata": {},
   "source": [
    "## Corelation matrix"
   ]
  },
  {
   "cell_type": "code",
   "execution_count": 17,
   "id": "f66309cf",
   "metadata": {},
   "outputs": [
    {
     "data": {
      "image/png": "[encoded data removed]",
      "text/plain": [
       "<Figure size 1620x800 with 2 Axes>"
      ]
     },
     "metadata": {},
     "output_type": "display_data"
    }
   ],
   "source": [
    "corr = flights_final.corr(method='spearman', min_periods=2)\n",
    "\n",
    "plt.figure(figsize=(max(10, len(flights_final.columns) * 0.6), 8))\n",
    "sns.heatmap(corr, annot=False, cmap='coolwarm', center=0, fmt=\".2f\", square=True)\n",
    "plt.title(f'Macierz korelacji spermana')\n",
    "plt.tight_layout()\n",
    "plt.show()"
   ]
  },
  {
   "cell_type": "markdown",
   "id": "e0c4d1f0",
   "metadata": {},
   "source": [
    "# Model"
   ]
  },
  {
   "cell_type": "markdown",
   "id": "b4b43f9f",
   "metadata": {},
   "source": [
    "## Linear Regression"
   ]
  },
  {
   "cell_type": "code",
   "execution_count": null,
   "id": "260b4ff2",
   "metadata": {},
   "outputs": [
    {
     "name": "stdout",
     "output_type": "stream",
     "text": [
      "0.9999999999999839\n",
      "0.9999999999999839\n"
     ]
    }
   ],
   "source": [
    "target = \"ARRIVAL_DELAY\"\n",
    "\n",
    "y = flights_final[target]\n",
    "X = flights_final.drop(columns=[target])\n",
    "X_train, X_test, y_train, y_test = train_test_split(X, y, test_size=0.2)\n",
    "\n",
    "lr_model = LinearRegression()\n",
    "lr_model.fit(X_train, y_train)\n",
    "y_pred = lr_model.predict(X_test)\n",
    "r2 = r2_score(y_test, y_pred)\n",
    "print(f\"R^2 score = {r2:.4f}\")\n",
    "mae = mean_absolute_error(y_test, y_pred)\n",
    "print(f\"MAE score = {mae:.4f}\")\n",
    "rmse = mean_squared_error(y_test, y_pred)\n",
    "print(f\"RMSE score = {rmse:.4f}\")"
   ]
  },
  {
   "cell_type": "markdown",
   "id": "1254746a",
   "metadata": {},
   "source": [
    "## Filter out trivial data"
   ]
  },
  {
   "cell_type": "code",
   "execution_count": 7,
   "id": "45fec784",
   "metadata": {},
   "outputs": [],
   "source": [
    "flights_sample = flights_final.sample(n=10000, random_state=42)\n",
    "easy_features = [ \n",
    "    \"DEPARTURE_DELAY\",\n",
    "    \"ELAPSED_TIME\",\"AIR_TIME\",\"WHEELS_ON\",\"TAXI_IN\",\n",
    "    \"ARRIVAL_TIME\",\n",
    "    \"AIR_SYSTEM_DELAY\",\"SECURITY_DELAY\",\"AIRLINE_DELAY\",\"LATE_AIRCRAFT_DELAY\",\"WEATHER_DELAY\"\n",
    "]\n",
    "\n",
    "target = \"ARRIVAL_DELAY\"\n",
    "\n",
    "y = flights_sample[target]\n",
    "X = flights_sample.drop(columns=[target])\n",
    "X = X.drop(columns=easy_features)\n",
    "X_train, X_test, y_train, y_test = train_test_split(X, y, test_size=0.2)"
   ]
  },
  {
   "cell_type": "markdown",
   "id": "f05c82df",
   "metadata": {},
   "source": [
    "## Algorithm ranking "
   ]
  },
  {
   "cell_type": "code",
   "execution_count": null,
   "id": "bc527312",
   "metadata": {},
   "outputs": [],
   "source": [
    "models = [\n",
    "    ('LinearRegression', make_pipeline(StandardScaler(), LinearRegression())),\n",
    "    ('Ridge', make_pipeline(StandardScaler(), Ridge())),\n",
    "    ('Lasso', make_pipeline(StandardScaler(), Lasso())),\n",
    "    ('ElasticNet', make_pipeline(StandardScaler(), ElasticNet())),\n",
    "    ('BayesianRidge', make_pipeline(StandardScaler(), BayesianRidge())),\n",
    "    ('HuberRegressor', make_pipeline(StandardScaler(), HuberRegressor())),\n",
    "    ('DecisionTreeRegressor', DecisionTreeRegressor()),\n",
    "    ('RandomForestRegressor', RandomForestRegressor()),\n",
    "    ('GradientBoostingRegressor', GradientBoostingRegressor()),\n",
    "    ('BaggingRegressor', BaggingRegressor(DecisionTreeRegressor())),\n",
    "    ('ExtraTreesRegressor', ExtraTreesRegressor()),\n",
    "    ('AdaBoostRegressor', AdaBoostRegressor()),\n",
    "    ('SVR', make_pipeline(StandardScaler(), SVR())),\n",
    "    ('KNeighborsRegressor', make_pipeline(StandardScaler(), KNeighborsRegressor())),\n",
    "    ('GaussianProcessRegressor', make_pipeline(StandardScaler(), GaussianProcessRegressor())),\n",
    "    ('MLPRegressor', make_pipeline(StandardScaler(), MLPRegressor())),\n",
    "]\n",
    "\n",
    "results = []\n",
    "for name, model in models:\n",
    "    try:\n",
    "        model.fit(X_train, y_train)\n",
    "        y_pred = model.predict(X_test)\n",
    "        score = r2_score(y_test, y_pred)\n",
    "        print(f\"{name}: R^2 score = {score:.4f}\")\n",
    "        results.append((name, score))\n",
    "    except Exception as e:\n",
    "        print(f\"{name}: Error - {e}\")\n",
    "\n",
    "print(\"\\nSorted Results:\")\n",
    "for name, score in sorted(results, key=lambda x: x[1], reverse=True):\n",
    "    print(f\"{name}: R^2 score = {score:.4f}\")"
   ]
  },
  {
   "cell_type": "markdown",
   "id": "e8265dbb",
   "metadata": {},
   "source": [
    "## Voting approach"
   ]
  },
  {
   "cell_type": "code",
   "execution_count": null,
   "id": "81788c60",
   "metadata": {},
   "outputs": [],
   "source": [
    "model_voting =  VotingRegressor([\n",
    "        ('er', ExtraTreesRegressor()),\n",
    "        ('rf', RandomForestRegressor()),\n",
    "        ('gb', GradientBoostingRegressor()),\n",
    "        ('mlp', make_pipeline(StandardScaler(), MLPRegressor())),\n",
    "        ('bg', BaggingRegressor(DecisionTreeRegressor()))\n",
    "    ])\n",
    "\n",
    "model_voting.fit(X_train, y_train)\n",
    "y_pred = model_voting.predict(X_test)\n",
    "score = r2_score(y_test, y_pred)\n",
    "print(f\"{name}: R^2 score = {score:.4f}\")"
   ]
  },
  {
   "cell_type": "markdown",
   "id": "6b07cef9",
   "metadata": {},
   "source": [
    "## Automatic algorithm search"
   ]
  },
  {
   "cell_type": "code",
   "execution_count": null,
   "id": "ca19cf7f",
   "metadata": {},
   "outputs": [],
   "source": [
    "from tpot import TPOTRegressor\n",
    "\n",
    "tpot = TPOTRegressor(generations=5, population_size=50, verbosity=2, random_state=42)\n",
    "tpot.fit(X_train, y_train)\n",
    "print(tpot.score(X_test, y_test))"
   ]
  },
  {
   "cell_type": "markdown",
   "id": "8f737c1e",
   "metadata": {},
   "source": [
    "## Hyperparameter grid search"
   ]
  },
  {
   "cell_type": "code",
   "execution_count": null,
   "id": "d796ad02",
   "metadata": {},
   "outputs": [],
   "source": [
    "models = {\n",
    "    \"ExtraTreesRegressor\": ExtraTreesRegressor(random_state=42),\n",
    "    \"RandomForestRegressor\": RandomForestRegressor(random_state=42),\n",
    "    \"GradientBoostingRegressor\": GradientBoostingRegressor(random_state=42),\n",
    "    \"BaggingRegressor\": BaggingRegressor(random_state=42),\n",
    "}"
   ]
  },
  {
   "cell_type": "markdown",
   "id": "83bd5986",
   "metadata": {},
   "source": [
    "### Manual search"
   ]
  },
  {
   "cell_type": "code",
   "execution_count": null,
   "id": "2d4cd73d",
   "metadata": {},
   "outputs": [],
   "source": [
    "param_grids = {\n",
    "    \"ExtraTreesRegressor\": {\n",
    "        \"n_estimators\": [100, 200, 300],\n",
    "        \"max_depth\": [None, 10, 30, 50],\n",
    "        \"min_samples_split\": [2, 5, 10],\n",
    "        \"min_samples_leaf\": [1, 2, 4]\n",
    "    },\n",
    "    \"RandomForestRegressor\": {\n",
    "        \"n_estimators\": [100, 200, 300],\n",
    "        \"max_depth\": [None, 10, 30, 50],\n",
    "        \"min_samples_split\": [2, 5, 10],\n",
    "        \"min_samples_leaf\": [1, 2, 4]\n",
    "    },\n",
    "    \"GradientBoostingRegressor\": {\n",
    "        \"n_estimators\": [100, 200],\n",
    "        \"learning_rate\": [0.01, 0.05, 0.1],\n",
    "        \"max_depth\": [3, 5, 10],\n",
    "        \"subsample\": [0.8, 1.0]\n",
    "    },\n",
    "    \"BaggingRegressor\": {\n",
    "        \"n_estimators\": [10, 20, 50, 100],\n",
    "        \"max_samples\": [0.5, 0.8, 1.0],\n",
    "        \"max_features\": [0.5, 0.8, 1.0]\n",
    "    }\n",
    "}\n",
    "\n",
    "for name, model in models.items():\n",
    "    print(f\"\\nTuning {name}...\")\n",
    "    param_grid = param_grids[name]\n",
    "    grid = GridSearchCV(model, param_grid, cv=3, scoring='r2', n_jobs=-1, verbose=2)\n",
    "    grid.fit(X_train, y_train)\n",
    "    best_estimator = grid.best_estimator_\n",
    "    y_pred = best_estimator.predict(X_test)\n",
    "    score = r2_score(y_test, y_pred)\n",
    "    print(f\"Best parameters for {name}: {grid.best_params_}\")\n",
    "    print(f\"Test R^2 score for {name}: {score:.4f}\")"
   ]
  },
  {
   "cell_type": "markdown",
   "id": "4ee486ec",
   "metadata": {},
   "source": [
    "### Random search"
   ]
  },
  {
   "cell_type": "code",
   "execution_count": null,
   "id": "fbbfbb38",
   "metadata": {},
   "outputs": [
    {
     "name": "stdout",
     "output_type": "stream",
     "text": [
      "\n",
      "Randomized search for ExtraTreesRegressor...\n",
      "Fitting 3 folds for each of 30 candidates, totalling 90 fits\n",
      "Best parameters for ExtraTreesRegressor: {'max_depth': 30, 'min_samples_leaf': 1, 'min_samples_split': 2, 'n_estimators': 413}\n",
      "Test R^2 score for ExtraTreesRegressor: 0.8068\n",
      "\n",
      "Randomized search for RandomForestRegressor...\n",
      "Fitting 3 folds for each of 30 candidates, totalling 90 fits\n",
      "Best parameters for RandomForestRegressor: {'max_depth': 30, 'min_samples_leaf': 1, 'min_samples_split': 2, 'n_estimators': 413}\n",
      "Test R^2 score for RandomForestRegressor: 0.7428\n",
      "\n",
      "Randomized search for GradientBoostingRegressor...\n",
      "Fitting 3 folds for each of 30 candidates, totalling 90 fits\n",
      "Best parameters for GradientBoostingRegressor: {'learning_rate': np.float64(0.18832501471299254), 'max_depth': 4, 'n_estimators': 291, 'subsample': np.float64(0.9976634677873653)}\n",
      "Test R^2 score for GradientBoostingRegressor: 0.7640\n",
      "\n",
      "Randomized search for BaggingRegressor...\n",
      "Fitting 3 folds for each of 30 candidates, totalling 90 fits\n",
      "Best parameters for BaggingRegressor: {'max_features': np.float64(0.9961057796456088), 'max_samples': np.float64(0.8087407548138583), 'n_estimators': 67}\n",
      "Test R^2 score for BaggingRegressor: 0.7328\n"
     ]
    }
   ],
   "source": [
    "param_dists = {\n",
    "    \"ExtraTreesRegressor\": {\n",
    "        \"n_estimators\": randint(100, 500),\n",
    "        \"max_depth\": [None] + list(range(10, 51, 10)),\n",
    "        \"min_samples_split\": randint(2, 11),\n",
    "        \"min_samples_leaf\": randint(1, 5)\n",
    "    },\n",
    "    \"RandomForestRegressor\": {\n",
    "        \"n_estimators\": randint(100, 500),\n",
    "        \"max_depth\": [None] + list(range(10, 51, 10)),\n",
    "        \"min_samples_split\": randint(2, 11),\n",
    "        \"min_samples_leaf\": randint(1, 5)\n",
    "    },\n",
    "    \"GradientBoostingRegressor\": {\n",
    "        \"n_estimators\": randint(100, 400),\n",
    "        \"learning_rate\": uniform(0.01, 0.19),\n",
    "        \"max_depth\": randint(3, 11),\n",
    "        \"subsample\": uniform(0.7, 0.3)\n",
    "    },\n",
    "    \"BaggingRegressor\": {\n",
    "        \"n_estimators\": randint(10, 101),\n",
    "        \"max_samples\": uniform(0.5, 0.5),\n",
    "        \"max_features\": uniform(0.5, 0.5)\n",
    "    }\n",
    "}\n",
    "\n",
    "n_iter_search = 30\n",
    "\n",
    "for name, model in models.items():\n",
    "    print(f\"\\nRandomized search for {name}...\")\n",
    "    search = RandomizedSearchCV(\n",
    "        model,\n",
    "        param_distributions=param_dists[name],\n",
    "        n_iter=n_iter_search,\n",
    "        scoring='r2',\n",
    "        n_jobs=-1,\n",
    "        cv=3,\n",
    "        verbose=2,\n",
    "        random_state=42\n",
    "    )\n",
    "    search.fit(X_train, y_train)\n",
    "    best_model = search.best_estimator_\n",
    "    y_pred = best_model.predict(X_test)\n",
    "    score = r2_score(y_test, y_pred)\n",
    "    print(f\"Best parameters for {name}: {search.best_params_}\")\n",
    "    print(f\"Test R^2 score for {name}: {score:.4f}\")"
   ]
  },
  {
   "cell_type": "markdown",
   "id": "c73da765",
   "metadata": {},
   "source": [
    "## Final training"
   ]
  },
  {
   "cell_type": "code",
   "execution_count": null,
   "id": "273c2bdd",
   "metadata": {},
   "outputs": [
    {
     "name": "stdout",
     "output_type": "stream",
     "text": [
      "R^2 score = 0.9123\n",
      "MAE score = 8.0220\n",
      "RMSE score = 136.2538\n"
     ]
    }
   ],
   "source": [
    "y = flights_final[target]\n",
    "X = flights_final.drop(columns=[target])\n",
    "X = X.drop(columns=easy_features)\n",
    "X_train, X_test, y_train, y_test = train_test_split(X, y, test_size=0.2)\n",
    "\n",
    "\n",
    "model = GradientBoostingRegressor(learning_rate = 0.1, max_depth = 5, n_estimators = 200, subsample = 0.8)\n",
    "\n",
    "model.fit(X_train, y_train)\n",
    "y_pred = model.predict(X_test)\n",
    "r2 = r2_score(y_test, y_pred)\n",
    "print(f\"R^2 score = {r2:.4f}\")\n",
    "mae = mean_absolute_error(y_test, y_pred)\n",
    "print(f\"MAE score = {mae:.4f}\")\n",
    "rmse = mean_squared_error(y_test, y_pred)\n",
    "print(f\"RMSE score = {rmse:.4f}\")"
   ]
  }
 ],
 "metadata": {
  "kernelspec": {
   "display_name": "venv",
   "language": "python",
   "name": "python3"
  },
  "language_info": {
   "codemirror_mode": {
    "name": "ipython",
    "version": 3
   },
   "file_extension": ".py",
   "mimetype": "text/x-python",
   "name": "python",
   "nbconvert_exporter": "python",
   "pygments_lexer": "ipython3",
   "version": "3.9.0"
  }
 },
 "nbformat": 4,
 "nbformat_minor": 5
}
